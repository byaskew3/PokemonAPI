{
 "cells": [
  {
   "cell_type": "markdown",
   "source": [
    "# APIs\n",
    "\n",
    "#### What are they and how do we use them\n",
    "\n",
    "<p> API stands for application programming interface - what an API actually does is provide a way for different servers, devices, and applications to send information back and forth in a commonly understood structure. </p>\n",
    "\n",
    "<p> So using an api, we can send data from an application written in one programming language to an application written in another programming language on a different server, and both applications can understand that data. </p>"
   ],
   "metadata": {}
  },
  {
   "cell_type": "markdown",
   "source": [
    "<p> Its kind of like the kitchen in a restaurant -> they take the unprepared food items, chop them up, cook them, and lay them out nicely presented on a plate for the customers to consume as they please. </p>\n",
    "\n",
    "<p> APIs use data formats that can be understood by multiple programming languages -> the most common one we will use is called JSON data (JavaScript Object Notation) </p>"
   ],
   "metadata": {}
  },
  {
   "cell_type": "code",
   "execution_count": 3,
   "source": [
    "import requests as r # often requests is imported under the alias r\r\n",
    "data = r.get(\"https://pokeapi.co/api/v2/pokemon/charmander\")\r\n",
    "print(data.status.code)"
   ],
   "outputs": [
    {
     "output_type": "error",
     "ename": "AttributeError",
     "evalue": "'Response' object has no attribute 'status'",
     "traceback": [
      "\u001b[1;31m---------------------------------------------------------------------------\u001b[0m",
      "\u001b[1;31mAttributeError\u001b[0m                            Traceback (most recent call last)",
      "\u001b[1;32m~\\AppData\\Local\\Temp/ipykernel_16896/2359496215.py\u001b[0m in \u001b[0;36m<module>\u001b[1;34m\u001b[0m\n\u001b[0;32m      1\u001b[0m \u001b[1;32mimport\u001b[0m \u001b[0mrequests\u001b[0m \u001b[1;32mas\u001b[0m \u001b[0mr\u001b[0m \u001b[1;31m# often requests is imported under the alias r\u001b[0m\u001b[1;33m\u001b[0m\u001b[1;33m\u001b[0m\u001b[0m\n\u001b[0;32m      2\u001b[0m \u001b[0mdata\u001b[0m \u001b[1;33m=\u001b[0m \u001b[0mr\u001b[0m\u001b[1;33m.\u001b[0m\u001b[0mget\u001b[0m\u001b[1;33m(\u001b[0m\u001b[1;34m\"https://pokeapi.co/api/v2/pokemon/charmander\"\u001b[0m\u001b[1;33m)\u001b[0m\u001b[1;33m\u001b[0m\u001b[1;33m\u001b[0m\u001b[0m\n\u001b[1;32m----> 3\u001b[1;33m \u001b[0mprint\u001b[0m\u001b[1;33m(\u001b[0m\u001b[0mdata\u001b[0m\u001b[1;33m.\u001b[0m\u001b[0mstatus\u001b[0m\u001b[1;33m.\u001b[0m\u001b[0mcode\u001b[0m\u001b[1;33m)\u001b[0m\u001b[1;33m\u001b[0m\u001b[1;33m\u001b[0m\u001b[0m\n\u001b[0m",
      "\u001b[1;31mAttributeError\u001b[0m: 'Response' object has no attribute 'status'"
     ]
    }
   ],
   "metadata": {}
  },
  {
   "cell_type": "code",
   "execution_count": 4,
   "source": [
    "# Check Status Code\r\n",
    "if data.status_code == 200:\r\n",
    "    my_data = data.json()\r\n",
    "    for ability in my_data[\"abilities\"]:\r\n",
    "        print(ability[\"ability\"][\"name\"])\r\n",
    "else:\r\n",
    "    print(\"Sorry, API call unsuccessful\")"
   ],
   "outputs": [
    {
     "output_type": "stream",
     "name": "stdout",
     "text": [
      "blaze\n",
      "solar-power\n"
     ]
    }
   ],
   "metadata": {}
  },
  {
   "cell_type": "code",
   "execution_count": 16,
   "source": [
    "# In-Class Exercise #1\r\n",
    "# From this API Endpoint: 'https://pokeapi.co/api/v2/pokemon/entei'\r\n",
    "# Access the string 'emerald' thats located somewhere within game_indices\r\n",
    "\r\n",
    "print(my_data[\"game_indices\"][8][\"version\"][\"name\"])"
   ],
   "outputs": [
    {
     "output_type": "stream",
     "name": "stdout",
     "text": [
      "emerald\n"
     ]
    }
   ],
   "metadata": {}
  },
  {
   "cell_type": "code",
   "execution_count": null,
   "source": [
    "# What are the names of all of the Pokemon games that Entei is in?\r\n",
    "# I want a list of the names of every game Entei is in.\r\n",
    "\r\n",
    "# Well, if I can do it for one piece of the data,\r\n",
    "\r\n",
    "# see above"
   ],
   "outputs": [],
   "metadata": {}
  },
  {
   "cell_type": "code",
   "execution_count": null,
   "source": [
    "# End goal structure for the basic version of the assignment:\r\n",
    "\r\n",
    "# Goal is to make 20 pokemon\r\n",
    "# Each pokemon is a dictionary\r\n",
    "pokemon = {\r\n",
    "    \"name\": \"insert my name here\"\r\n",
    "    \"ablities\": [\"roar\", \"tailwhip\"]\r\n",
    "    \"weight\": 50\r\n",
    "    \"type\": []]\r\n",
    "}\r\n",
    "\r\n",
    "\r\n",
    "# after you make all the individual pokemon\r\n",
    "# put them in a dictionary of lists based on type\r\n",
    "\r\n",
    "my_pokemon = {\r\n",
    "    \"fire\":[{}, {}, {}]\r\n",
    "    \"water\":[{}]\r\n",
    "}"
   ],
   "outputs": [],
   "metadata": {}
  },
  {
   "cell_type": "code",
   "execution_count": null,
   "source": [
    "# remember that string concatenation is a thing and/or that f-strings work here\r\n"
   ],
   "outputs": [],
   "metadata": {}
  },
  {
   "cell_type": "code",
   "execution_count": 5,
   "source": [
    "import requests as r\r\n",
    "# Instead of Making a Pokemon Dictionary, I want to make pokemon objects\r\n",
    "# I want to store those pokemon objects in a dictionary where the key is the pokemon's name\r\n",
    "# {\r\n",
    "# 'grovyle' : <pokemon_object for grovyle @ 0x304180sflk31sj>\r\n",
    "# }\r\n",
    "# I want to be able to pass a dictionary made from the API call .json() data into the __init__() of Pokemon class\r\n",
    "# and have the pokemon's attributes be filled out from there\r\n",
    "\r\n",
    "# let me lay out my skeleton code\r\n",
    "# pokemon object is gonna have the same attributes\r\n",
    "    # name=str, abilities=[], types=[], weight=int\r\n",
    "# pokemon object methods\r\n",
    "    # display that prints our pokemon's info nice and pretty prettily? fancy-lookin.\r\n",
    "\r\n",
    "# second class pokedex\r\n",
    "    # 1 attribute - the dictionary of all the pokemon\r\n",
    "    \r\n",
    "    # 3 methods\r\n",
    "        # 1 create pokemon -> take in a list of pokemon names, and fill up our objects/dictionary\r\n",
    "        # 2 display function - to show all the pokemon\r\n",
    "        # 3 searching function to display based on the pokemon type asked for\r\n",
    "        \r\n",
    "        \r\n",
    "        \r\n",
    "        \r\n",
    "# pokemon objects\r\n",
    "class Pokemon():\r\n",
    "    def __init__(self, pokemon):\r\n",
    "        # attributes\r\n",
    "        self.name = pokemon['name'].title()\r\n",
    "        self.type = pokemon['types'][0]['type']['name'].title()\r\n",
    "        self.abilities = pokemon['abilities'][0]['ability']['name'], ['abilities'][1]['ability']['name']\r\n",
    "        self.weight = pokemon['weight']\r\n",
    "        \r\n",
    "    def printInfo(self):\r\n",
    "        print(f\"Loading {self.name}.....\")\r\n",
    "        print(f\"{self.name} is a {self.type} type pokemon.\")\r\n",
    "        print(f\"This pokemon's abilities are: {self.abilities[0]}, {self.abilities[1]}\")\r\n",
    "        print(f\"weight: {self.weight}\")\r\n",
    "\r\n",
    "\r\n",
    "\r\n",
    "# charmander = Pokemon(\"name\", \"abilities\", \"type\", \"weight\")\r\n",
    "# print(charmander.__dict__)\r\n",
    "# charmander.printInfo()\r\n",
    "\r\n",
    " # pokedex objects\r\n",
    "class Pokedex():\r\n",
    "    def __init__(self):\r\n",
    "        self.dex = {}\r\n",
    "\r\n",
    "    def createPokemon(self, name):\r\n",
    "        data = r.get(f\"https://pokeapi.co/api/v2/pokemon/{name}\")\r\n",
    "        if data.status_code == 200:\r\n",
    "           my_data = data.json()\r\n",
    "           pokemon = Pokemon(my_data)\r\n",
    "           self.dex[name] = pokemon\r\n",
    "           {pokemon.printInfo()}\r\n",
    "        else:\r\n",
    "            print(\"This Pokemon does not exist.\")\r\n",
    "\r\n",
    "    def showAll(self):\r\n",
    "        for pokemon in self.dex.items():\r\n",
    "            pokemon.printInfo()\r\n",
    "    \r\n",
    "    def searchType(self, poketype):\r\n",
    "        List1 = []\r\n",
    "        for name,pokemon in self.dex.items():\r\n",
    "            for poke in pokemon.type:\r\n",
    "                if poketype == pokemon.type:\r\n",
    "                    List1.append(name)\r\n",
    "        print(List1)\r\n",
    "\r\n",
    "class Main:\r\n",
    "    @classmethod\r\n",
    "    def run(self):\r\n",
    "        pokedex = Pokedex()    \r\n",
    "        while True:\r\n",
    "            new_pokemon = input(\"Which Pokemon would you like to add to your Pokedex? (Enter 'q' to quit/'s' to show) \").lower()\r\n",
    "            if new_pokemon != \"q\":\r\n",
    "                pokedex.createPokemon(new_pokemon) \r\n",
    "            elif new_pokemon == \"s\":\r\n",
    "                pokedex.showAll()\r\n",
    "            else: \r\n",
    "                break  \r\n",
    "        while True:\r\n",
    "            types_pokemon = input(\"Which type of Pokemon would you like to show? or quit \").lower()\r\n",
    "            if types_pokemon == \"quit\":\r\n",
    "                break\r\n",
    "            else:\r\n",
    "                pokedex.searchType(types_pokemon)\r\n",
    "\r\n",
    "Main.run()"
   ],
   "outputs": [
    {
     "output_type": "stream",
     "name": "stdout",
     "text": [
      "This Pokemon does not exist.\n"
     ]
    },
    {
     "output_type": "error",
     "ename": "IndexError",
     "evalue": "list index out of range",
     "traceback": [
      "\u001b[1;31m---------------------------------------------------------------------------\u001b[0m",
      "\u001b[1;31mIndexError\u001b[0m                                Traceback (most recent call last)",
      "\u001b[1;32m~\\AppData\\Local\\Temp/ipykernel_11128/1257696334.py\u001b[0m in \u001b[0;36m<module>\u001b[1;34m\u001b[0m\n\u001b[0;32m     92\u001b[0m                 \u001b[0mpokedex\u001b[0m\u001b[1;33m.\u001b[0m\u001b[0msearchType\u001b[0m\u001b[1;33m(\u001b[0m\u001b[0mtypes_pokemon\u001b[0m\u001b[1;33m)\u001b[0m\u001b[1;33m\u001b[0m\u001b[1;33m\u001b[0m\u001b[0m\n\u001b[0;32m     93\u001b[0m \u001b[1;33m\u001b[0m\u001b[0m\n\u001b[1;32m---> 94\u001b[1;33m \u001b[0mMain\u001b[0m\u001b[1;33m.\u001b[0m\u001b[0mrun\u001b[0m\u001b[1;33m(\u001b[0m\u001b[1;33m)\u001b[0m\u001b[1;33m\u001b[0m\u001b[1;33m\u001b[0m\u001b[0m\n\u001b[0m",
      "\u001b[1;32m~\\AppData\\Local\\Temp/ipykernel_11128/1257696334.py\u001b[0m in \u001b[0;36mrun\u001b[1;34m(self)\u001b[0m\n\u001b[0;32m     80\u001b[0m             \u001b[0mnew_pokemon\u001b[0m \u001b[1;33m=\u001b[0m \u001b[0minput\u001b[0m\u001b[1;33m(\u001b[0m\u001b[1;34m\"Which Pokemon would you like to add to your Pokedex? (Enter 'q' to quit/'s' to show) \"\u001b[0m\u001b[1;33m)\u001b[0m\u001b[1;33m.\u001b[0m\u001b[0mlower\u001b[0m\u001b[1;33m(\u001b[0m\u001b[1;33m)\u001b[0m\u001b[1;33m\u001b[0m\u001b[1;33m\u001b[0m\u001b[0m\n\u001b[0;32m     81\u001b[0m             \u001b[1;32mif\u001b[0m \u001b[0mnew_pokemon\u001b[0m \u001b[1;33m!=\u001b[0m \u001b[1;34m\"q\"\u001b[0m\u001b[1;33m:\u001b[0m\u001b[1;33m\u001b[0m\u001b[1;33m\u001b[0m\u001b[0m\n\u001b[1;32m---> 82\u001b[1;33m                 \u001b[0mpokedex\u001b[0m\u001b[1;33m.\u001b[0m\u001b[0mcreatePokemon\u001b[0m\u001b[1;33m(\u001b[0m\u001b[0mnew_pokemon\u001b[0m\u001b[1;33m)\u001b[0m\u001b[1;33m\u001b[0m\u001b[1;33m\u001b[0m\u001b[0m\n\u001b[0m\u001b[0;32m     83\u001b[0m             \u001b[1;32melif\u001b[0m \u001b[0mnew_pokemon\u001b[0m \u001b[1;33m==\u001b[0m \u001b[1;34m\"s\"\u001b[0m\u001b[1;33m:\u001b[0m\u001b[1;33m\u001b[0m\u001b[1;33m\u001b[0m\u001b[0m\n\u001b[0;32m     84\u001b[0m                 \u001b[0mpokedex\u001b[0m\u001b[1;33m.\u001b[0m\u001b[0mshowAll\u001b[0m\u001b[1;33m(\u001b[0m\u001b[1;33m)\u001b[0m\u001b[1;33m\u001b[0m\u001b[1;33m\u001b[0m\u001b[0m\n",
      "\u001b[1;32m~\\AppData\\Local\\Temp/ipykernel_11128/1257696334.py\u001b[0m in \u001b[0;36mcreatePokemon\u001b[1;34m(self, name)\u001b[0m\n\u001b[0;32m     55\u001b[0m         \u001b[1;32mif\u001b[0m \u001b[0mdata\u001b[0m\u001b[1;33m.\u001b[0m\u001b[0mstatus_code\u001b[0m \u001b[1;33m==\u001b[0m \u001b[1;36m200\u001b[0m\u001b[1;33m:\u001b[0m\u001b[1;33m\u001b[0m\u001b[1;33m\u001b[0m\u001b[0m\n\u001b[0;32m     56\u001b[0m            \u001b[0mmy_data\u001b[0m \u001b[1;33m=\u001b[0m \u001b[0mdata\u001b[0m\u001b[1;33m.\u001b[0m\u001b[0mjson\u001b[0m\u001b[1;33m(\u001b[0m\u001b[1;33m)\u001b[0m\u001b[1;33m\u001b[0m\u001b[1;33m\u001b[0m\u001b[0m\n\u001b[1;32m---> 57\u001b[1;33m            \u001b[0mpokemon\u001b[0m \u001b[1;33m=\u001b[0m \u001b[0mPokemon\u001b[0m\u001b[1;33m(\u001b[0m\u001b[0mmy_data\u001b[0m\u001b[1;33m)\u001b[0m\u001b[1;33m\u001b[0m\u001b[1;33m\u001b[0m\u001b[0m\n\u001b[0m\u001b[0;32m     58\u001b[0m            \u001b[0mself\u001b[0m\u001b[1;33m.\u001b[0m\u001b[0mdex\u001b[0m\u001b[1;33m[\u001b[0m\u001b[0mname\u001b[0m\u001b[1;33m]\u001b[0m \u001b[1;33m=\u001b[0m \u001b[0mpokemon\u001b[0m\u001b[1;33m\u001b[0m\u001b[1;33m\u001b[0m\u001b[0m\n\u001b[0;32m     59\u001b[0m            \u001b[1;33m{\u001b[0m\u001b[0mpokemon\u001b[0m\u001b[1;33m.\u001b[0m\u001b[0mprintInfo\u001b[0m\u001b[1;33m(\u001b[0m\u001b[1;33m)\u001b[0m\u001b[1;33m}\u001b[0m\u001b[1;33m\u001b[0m\u001b[1;33m\u001b[0m\u001b[0m\n",
      "\u001b[1;32m~\\AppData\\Local\\Temp/ipykernel_11128/1257696334.py\u001b[0m in \u001b[0;36m__init__\u001b[1;34m(self, pokemon)\u001b[0m\n\u001b[0;32m     31\u001b[0m         \u001b[0mself\u001b[0m\u001b[1;33m.\u001b[0m\u001b[0mname\u001b[0m \u001b[1;33m=\u001b[0m \u001b[0mpokemon\u001b[0m\u001b[1;33m[\u001b[0m\u001b[1;34m'name'\u001b[0m\u001b[1;33m]\u001b[0m\u001b[1;33m.\u001b[0m\u001b[0mtitle\u001b[0m\u001b[1;33m(\u001b[0m\u001b[1;33m)\u001b[0m\u001b[1;33m\u001b[0m\u001b[1;33m\u001b[0m\u001b[0m\n\u001b[0;32m     32\u001b[0m         \u001b[0mself\u001b[0m\u001b[1;33m.\u001b[0m\u001b[0mtype\u001b[0m \u001b[1;33m=\u001b[0m \u001b[0mpokemon\u001b[0m\u001b[1;33m[\u001b[0m\u001b[1;34m'types'\u001b[0m\u001b[1;33m]\u001b[0m\u001b[1;33m[\u001b[0m\u001b[1;36m0\u001b[0m\u001b[1;33m]\u001b[0m\u001b[1;33m[\u001b[0m\u001b[1;34m'type'\u001b[0m\u001b[1;33m]\u001b[0m\u001b[1;33m[\u001b[0m\u001b[1;34m'name'\u001b[0m\u001b[1;33m]\u001b[0m\u001b[1;33m.\u001b[0m\u001b[0mtitle\u001b[0m\u001b[1;33m(\u001b[0m\u001b[1;33m)\u001b[0m\u001b[1;33m\u001b[0m\u001b[1;33m\u001b[0m\u001b[0m\n\u001b[1;32m---> 33\u001b[1;33m         \u001b[0mself\u001b[0m\u001b[1;33m.\u001b[0m\u001b[0mabilities\u001b[0m \u001b[1;33m=\u001b[0m \u001b[0mpokemon\u001b[0m\u001b[1;33m[\u001b[0m\u001b[1;34m'abilities'\u001b[0m\u001b[1;33m]\u001b[0m\u001b[1;33m[\u001b[0m\u001b[1;36m0\u001b[0m\u001b[1;33m]\u001b[0m\u001b[1;33m[\u001b[0m\u001b[1;34m'ability'\u001b[0m\u001b[1;33m]\u001b[0m\u001b[1;33m[\u001b[0m\u001b[1;34m'name'\u001b[0m\u001b[1;33m]\u001b[0m\u001b[1;33m,\u001b[0m \u001b[1;33m[\u001b[0m\u001b[1;34m'abilities'\u001b[0m\u001b[1;33m]\u001b[0m\u001b[1;33m[\u001b[0m\u001b[1;36m1\u001b[0m\u001b[1;33m]\u001b[0m\u001b[1;33m[\u001b[0m\u001b[1;34m'ability'\u001b[0m\u001b[1;33m]\u001b[0m\u001b[1;33m[\u001b[0m\u001b[1;34m'name'\u001b[0m\u001b[1;33m]\u001b[0m\u001b[1;33m\u001b[0m\u001b[1;33m\u001b[0m\u001b[0m\n\u001b[0m\u001b[0;32m     34\u001b[0m         \u001b[0mself\u001b[0m\u001b[1;33m.\u001b[0m\u001b[0mweight\u001b[0m \u001b[1;33m=\u001b[0m \u001b[0mpokemon\u001b[0m\u001b[1;33m[\u001b[0m\u001b[1;34m'weight'\u001b[0m\u001b[1;33m]\u001b[0m\u001b[1;33m\u001b[0m\u001b[1;33m\u001b[0m\u001b[0m\n\u001b[0;32m     35\u001b[0m \u001b[1;33m\u001b[0m\u001b[0m\n",
      "\u001b[1;31mIndexError\u001b[0m: list index out of range"
     ]
    }
   ],
   "metadata": {}
  },
  {
   "cell_type": "code",
   "execution_count": null,
   "source": [
    "# Driver Code"
   ],
   "outputs": [],
   "metadata": {}
  },
  {
   "cell_type": "code",
   "execution_count": 37,
   "source": [
    "answer = input(\"What pokemon do you want to search for?\")\r\n",
    "data = r.get(f\"https://pokeapi.co/api/v2/pokemon/{answer}\")\r\n",
    "my_data = data.json()\r\n",
    "print(f\"You chose {answer.title()}\")\r\n",
    "print(f\"{answer.title()} is a {my_data['types'][0]['type']['name']} type pokemon.\")\r\n",
    "print(f\"This pokemon's abilities are: {my_data['abilities'][0]['ability']['name']}, {my_data['abilities'][1]['ability']['name']}\")\r\n",
    "print(f\"weight: {my_data['weight']}\")\r\n",
    "\r\n",
    "# pokedex objects\r\n",
    "class Pokedex():\r\n",
    "    def __init__(self):\r\n",
    "        pass\r\n",
    "    def createPokemon(self):\r\n",
    "        pass\r\n",
    "    def showAll(self):\r\n",
    "        pass\r\n",
    "    def searchType(self):\r\n",
    "        pass"
   ],
   "outputs": [
    {
     "output_type": "stream",
     "name": "stdout",
     "text": [
      "You chose Squirtle\n",
      "Squirtle is a water type pokemon.\n",
      "This pokemon's abilities are: torrent, rain-dish\n",
      "weight: 90\n"
     ]
    }
   ],
   "metadata": {}
  }
 ],
 "metadata": {
  "kernelspec": {
   "name": "python3",
   "display_name": "Python 3.9.6 64-bit"
  },
  "language_info": {
   "codemirror_mode": {
    "name": "ipython",
    "version": 3
   },
   "file_extension": ".py",
   "mimetype": "text/x-python",
   "name": "python",
   "nbconvert_exporter": "python",
   "pygments_lexer": "ipython3",
   "version": "3.9.6"
  },
  "interpreter": {
   "hash": "57990f1ad2ea89c67ddae7f31d40c478205c5912da0fccfb7c5cfbb2b8bf17ad"
  }
 },
 "nbformat": 4,
 "nbformat_minor": 5
}